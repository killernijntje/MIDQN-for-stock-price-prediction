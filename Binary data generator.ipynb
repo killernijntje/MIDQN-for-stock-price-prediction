{
 "cells": [
  {
   "cell_type": "code",
   "execution_count": 2,
   "metadata": {},
   "outputs": [],
   "source": [
    "# import required packages \n",
    "import matplotlib.dates as mpdates \n",
    "import matplotlib.pyplot as plt \n",
    "import mplfinance as mpf\n",
    "import matplotlib as mpl\n",
    "from PIL import Image\n",
    "import pandas as pd \n",
    "import math as math\n",
    "import numpy as np\n",
    "import io   as io\n",
    "import gc   as gc\n",
    "import os as os\n",
    "from numpy import savetxt\n",
    "\n",
    "#set run instance number, and the total number of concurrent instances\n",
    "run=1\n",
    "tot_runs = 1; \n",
    "\n",
    "#timeframe\n",
    "tf = 32\n",
    "\n",
    "#set_pixels\n",
    "img_size=32\n",
    "\n",
    "#set directory\n",
    "direct =  \"D:/1 - School/Econometrics/2020 - 2021/Scriptie/Explainable AI/Scripts/Data/binary_colour_scheme.32frames\" #\"C:/Users/robin/1 - Scriptie/images/intraday/binary_colour_scheme.64frames\"\n",
    "\n",
    "#loading the data\n",
    "data = pd.read_csv(r'D:\\1 - School\\Econometrics\\2020 - 2021\\Scriptie\\Explainable AI\\Scripts\\Data\\stock_data_clean.csv',header=[0, 1] , index_col = 0 )\n",
    "data.index=pd.to_datetime(data.index)\n",
    "data = np.log(data) - np.log(data.shift(1))\n",
    "\n",
    "#loading the data\n",
    "data_volume = pd.read_csv(r'D:\\1 - School\\Econometrics\\2020 - 2021\\Scriptie\\Explainable AI\\Scripts\\Data\\stock_data_clean.csv',header=[0, 1] , index_col = 0 )\n",
    "data_volume.index=pd.to_datetime(data_volume.index)\n",
    "data_volume = np.log(data_volume) - np.log(data_volume.shift(1))\n",
    "\n",
    "#subsetting the data\n",
    "total_symbols = math.floor(len(data.columns.unique(level=0))/tot_runs)\n",
    "symbols = data.columns.unique(level=0)[(run-1)*total_symbols:run*total_symbols]\n",
    "\n",
    "\n"
   ]
  },
  {
   "cell_type": "code",
   "execution_count": 3,
   "metadata": {},
   "outputs": [],
   "source": [
    "def make_binary_array(i,j,data,data_volume,symbols,direct,img_size, tf):\n",
    "    #slice the data in to #tf trading day windows\n",
    "    data_temp=data[symbols[j]][i-tf:i]\n",
    "\n",
    "    #find price data and \n",
    "    price_data = data_temp.Close\n",
    "    volume_data = data_volume[symbols[j]][i-tf:i].Volume  \n",
    "\n",
    "    #min-max the data\n",
    "    price_max = np.amax(price_data)\n",
    "    price_min = np.amin(price_data)\n",
    "    price_data_min_max = np.divide ((price_data - price_min),(price_max-price_min))\n",
    "\n",
    "    vol_max = np.amax(volume_data)\n",
    "    vol_min = np.amin(volume_data)\n",
    "    vol_data_min_max = np.divide ((volume_data - vol_min),(vol_max-vol_min))\n",
    "\n",
    "    #bin the data\n",
    "    num_bins = int((tf-2)/2)\n",
    "\n",
    "    price_bins = np.linspace(np.amin(price_data_min_max),np.amax(price_data_min_max),num=num_bins)\n",
    "    price_bin_index = np.digitize(price_data_min_max,price_bins)-1\n",
    "\n",
    "    vol_bins = np.linspace(np.amin(vol_data_min_max),np.amax(vol_data_min_max),num=num_bins)\n",
    "    vol_bin_index = np.digitize(vol_data_min_max,vol_bins)-1\n",
    "\n",
    "    #create the binary array\n",
    "    output = np.zeros((tf,tf))\n",
    "\n",
    "    for i in range(0,tf):\n",
    "            output[num_bins-(price_bin_index[i]+1),i]+=1\n",
    "            output[tf-vol_bin_index[i]-1,i]+=1\n",
    "    return output"
   ]
  },
  {
   "cell_type": "code",
   "execution_count": 4,
   "metadata": {},
   "outputs": [],
   "source": [
    "#check if folder excists, if not, create it. \n",
    "if not os.path.exists(direct):\n",
    "    os.mkdir(direct)\n",
    "\n",
    "for j in range(0,len(symbols)):\n",
    "\n",
    "    for i in range(tf,len(data)):\n",
    "\n",
    "        #check if the file has already been created\n",
    "        if not os.path.exists(direct+\"/\"+str(symbols[j])+\"_\"   +str(i-tf+1)+\".txt\"):\n",
    "            #call the functions and create the \n",
    "             binary_array = make_binary_array(i , j , data, data_volume, symbols ,direct , img_size,tf)\n",
    "             pd.DataFrame(binary_array).to_csv(direct+\"/\"+str(symbols[j])+\"_\"   +str(i-tf+1)+\".txt\", sep=' ', index=False, header=False)"
   ]
  }
 ],
 "metadata": {
  "kernelspec": {
   "display_name": "Python 3.8.5 64-bit (conda)",
   "metadata": {
    "interpreter": {
     "hash": "dac494b5a646e4864a42364743232279aabdb40846e1ef73ed5e92c4b5911599"
    }
   },
   "name": "python3"
  },
  "language_info": {
   "codemirror_mode": {
    "name": "ipython",
    "version": 3
   },
   "file_extension": ".py",
   "mimetype": "text/x-python",
   "name": "python",
   "nbconvert_exporter": "python",
   "pygments_lexer": "ipython3",
   "version": "3.8.5-final"
  },
  "orig_nbformat": 2
 },
 "nbformat": 4,
 "nbformat_minor": 2
}
