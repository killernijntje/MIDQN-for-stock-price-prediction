{
 "metadata": {
  "language_info": {
   "codemirror_mode": {
    "name": "ipython",
    "version": 3
   },
   "file_extension": ".py",
   "mimetype": "text/x-python",
   "name": "python",
   "nbconvert_exporter": "python",
   "pygments_lexer": "ipython3",
   "version": "3.8.5-final"
  },
  "orig_nbformat": 2,
  "kernelspec": {
   "name": "python3",
   "display_name": "Python 3.8.5 64-bit (conda)",
   "metadata": {
    "interpreter": {
     "hash": "dac494b5a646e4864a42364743232279aabdb40846e1ef73ed5e92c4b5911599"
    }
   }
  }
 },
 "nbformat": 4,
 "nbformat_minor": 2,
 "cells": [
  {
   "cell_type": "code",
   "execution_count": 4,
   "metadata": {},
   "outputs": [],
   "source": [
    "# import required packages \n",
    "import pandas as pd \n",
    "import numpy as np"
   ]
  },
  {
   "cell_type": "code",
   "execution_count": 13,
   "metadata": {},
   "outputs": [],
   "source": [
    "#Reading the data\n",
    "data = pd.read_csv(r'D:\\1 - School\\Econometrics\\2020 - 2021\\Scriptie\\Explainable AI\\Scripts\\Data\\stock_data.csv',sep=';',header=[0, 1] , index_col = 0)\n",
    "data.columns.set_levels(['Adj_Close', 'Close', 'High', 'Low', 'Open', 'Volume'],level=0,inplace=True)\n",
    "data = data.swaplevel(0,1 , axis=1)\n",
    "data.sort_index(axis=1, level=0, inplace=True)\n",
    "\n",
    "\n",
    "#drop stock with NAs\n",
    "data=data.dropna(axis=1)\n",
    "\n",
    "#drop stocks with volume=0 of more then 20%\n",
    "remove = []\n",
    "total_count = [] \n",
    "for sym in data.columns.unique(level=0):\n",
    "    count = 0\n",
    "    for i in range(len(data)):\n",
    "        if  data.iloc[i][sym].Volume==0:\n",
    "           count += 1\n",
    "           data.iloc[i][sym].Volume=1\n",
    "        if count/data.shape[0] >=0.2:\n",
    "            remove.append(sym)\n",
    "    total_count.append([sym,count])\n",
    "data[remove]=[]\n",
    "\n",
    "#Saving the cleaned data\n",
    "data.to_csv(r'D:\\1 - School\\Econometrics\\2020 - 2021\\Scriptie\\Explainable AI\\Scripts\\Data\\stock_data_clean.csv')"
   ]
  }
 ]
}